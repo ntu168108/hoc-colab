{
  "nbformat": 4,
  "nbformat_minor": 0,
  "metadata": {
    "colab": {
      "provenance": [],
      "authorship_tag": "ABX9TyOHJ/8r+ITqrj7J02HmUYR2",
      "include_colab_link": true
    },
    "kernelspec": {
      "name": "python3",
      "display_name": "Python 3"
    },
    "language_info": {
      "name": "python"
    }
  },
  "cells": [
    {
      "cell_type": "markdown",
      "metadata": {
        "id": "view-in-github",
        "colab_type": "text"
      },
      "source": [
        "<a href=\"https://colab.research.google.com/github/ntu168108/hoc-colab/blob/main/b%C3%A0i%201%20h%E1%BB%8Dc%20machine%20learning.ipynb\" target=\"_parent\"><img src=\"https://colab.research.google.com/assets/colab-badge.svg\" alt=\"Open In Colab\"/></a>"
      ]
    },
    {
      "cell_type": "markdown",
      "source": [
        "bài 1 đọc và sử dụng thư viện"
      ],
      "metadata": {
        "id": "1anOZHxUz2XG"
      }
    },
    {
      "cell_type": "code",
      "source": [
        "import os, pandas as pd\n",
        "df = pd.read_csv(\"/content/hoc-colab/log_tan_cong_mang.csv\")\n",
        "#print(df.head())\n",
        "# Lọc các truy cập bị nghi ngờ (ví dụ: quá 100 truy cập trong 1 phút)\n",
        "suspicious = df[df['requests_per_minute'] > 100]\n",
        "# print(suspicious)\n",
        "# Giả sử bạn có file tấn công mạng với các cột: IP, loại_tấn_công, thời_gian\n",
        "print(df['loai_tan_cong'].value_counts())  # Đếm loại tấn công\n",
        "\n",
        "# Lọc các cuộc tấn công DDoS\n",
        "ddos = df[df['loai_tan_cong'] == \"DDoS\"]\n",
        "print(ddos.head())\n",
        "\n"
      ],
      "metadata": {
        "colab": {
          "base_uri": "https://localhost:8080/"
        },
        "collapsed": true,
        "id": "KT-0EvkDz3zS",
        "outputId": "a4cc4714-1f93-4ffc-9bb1-eb3b666b7056"
      },
      "execution_count": 34,
      "outputs": [
        {
          "output_type": "stream",
          "name": "stdout",
          "text": [
            "loai_tan_cong\n",
            "DDoS             2\n",
            "Phishing         2\n",
            "SQL Injection    2\n",
            "Brute Force      1\n",
            "Name: count, dtype: int64\n",
            "             ip loai_tan_cong  requests_per_minute         thoi_gian\n",
            "0  192.168.1.10          DDoS                  120  2025-10-01 10:00\n",
            "2  192.168.1.10          DDoS                  135  2025-10-01 10:02\n"
          ]
        }
      ]
    },
    {
      "cell_type": "code",
      "source": [
        "import matplotlib.pyplot as plt\n",
        "\n",
        "df['loai_tan_cong'].value_counts().plot(kind='bar')\n",
        "plt.title(\"Tổng số tấn công theo loại\")\n",
        "plt.xlabel(\"Loại tấn công\")\n",
        "plt.ylabel(\"Số lượng\")\n",
        "plt.show()"
      ],
      "metadata": {
        "colab": {
          "base_uri": "https://localhost:8080/",
          "height": 570
        },
        "id": "KlCM9M-NB_ik",
        "outputId": "c9968da8-e390-4f28-fff5-8c6e5ed2d9dc"
      },
      "execution_count": 36,
      "outputs": [
        {
          "output_type": "execute_result",
          "data": {
            "text/plain": [
              "Text(0, 0.5, 'Số lượng')"
            ]
          },
          "metadata": {},
          "execution_count": 36
        },
        {
          "output_type": "display_data",
          "data": {
            "text/plain": [
              "<Figure size 640x480 with 1 Axes>"
            ],
            "image/png": "[encoded data removed]"
          },
          "metadata": {}
        }
      ]
    },
    {
      "cell_type": "code",
      "metadata": {
        "colab": {
          "base_uri": "https://localhost:8080/"
        },
        "id": "00f851a7",
        "outputId": "17d615d1-c1c5-42c7-cbb5-ed9dcec32ec0"
      },
      "source": [
        "!ls /content/hoc-colab"
      ],
      "execution_count": 27,
      "outputs": [
        {
          "output_type": "stream",
          "name": "stdout",
          "text": [
            "'bài 1 học machine learning.ipynb'   demovip.ipynb   log_tan_cong_mang.csv\n"
          ]
        }
      ]
    },
    {
      "cell_type": "markdown",
      "source": [
        "BÀI 2: numpy\n"
      ],
      "metadata": {
        "id": "yCIPQLHX_c3F"
      }
    },
    {
      "cell_type": "code",
      "source": [
        "import numpy as np\n",
        "\n",
        "data = np.array([12, 34, 56, 78, 99])\n",
        "print(\"Mean:\", np.mean(data))\n",
        "print(\"Std:\", np.std(data))\n"
      ],
      "metadata": {
        "colab": {
          "base_uri": "https://localhost:8080/"
        },
        "id": "rFg-0SqB_gQu",
        "outputId": "d515453f-6700-469d-8602-c0dc92d336fc"
      },
      "execution_count": 30,
      "outputs": [
        {
          "output_type": "stream",
          "name": "stdout",
          "text": [
            "Mean: 55.8\n",
            "Std: 30.83115307606902\n"
          ]
        }
      ]
    }
  ]
}