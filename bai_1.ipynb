{
  "nbformat": 4,
  "nbformat_minor": 0,
  "metadata": {
    "colab": {
      "provenance": [],
      "authorship_tag": "ABX9TyPRRdO9Dk3m77oWqmQBTqU8",
      "include_colab_link": true
    },
    "kernelspec": {
      "name": "python3",
      "display_name": "Python 3"
    },
    "language_info": {
      "name": "python"
    }
  },
  "cells": [
    {
      "cell_type": "markdown",
      "metadata": {
        "id": "view-in-github",
        "colab_type": "text"
      },
      "source": [
        "<a href=\"https://colab.research.google.com/github/ntu168108/hoc-colab/blob/main/bai_1.ipynb\" target=\"_parent\"><img src=\"https://colab.research.google.com/assets/colab-badge.svg\" alt=\"Open In Colab\"/></a>"
      ]
    },
    {
      "cell_type": "markdown",
      "source": [
        "#bài 1\n"
      ],
      "metadata": {
        "id": "oCDraLtK2KQc"
      }
    },
    {
      "cell_type": "markdown",
      "source": [
        "##đây là demo đầu tiên\n",
        "\n"
      ],
      "metadata": {
        "id": "rma3138H2ckU"
      }
    },
    {
      "cell_type": "code",
      "metadata": {
        "id": "b559c1a7"
      },
      "source": [
        "!pip freeze | grep pygame"
      ],
      "execution_count": null,
      "outputs": []
    },
    {
      "cell_type": "code",
      "metadata": {
        "colab": {
          "base_uri": "https://localhost:8080/"
        },
        "id": "85d8ac89",
        "outputId": "114a0f8c-1f5c-4771-f845-15dde491a331"
      },
      "source": [
        "!pip freeze | pygame"
      ],
      "execution_count": 5,
      "outputs": [
        {
          "output_type": "stream",
          "name": "stdout",
          "text": [
            "/bin/bash: line 1: pygame: command not found\n",
            "\u001b[31mERROR: Exception:\n",
            "Traceback (most recent call last):\n",
            "  File \"/usr/local/lib/python3.12/dist-packages/pip/_internal/cli/base_command.py\", line 179, in exc_logging_wrapper\n",
            "    status = run_func(*args)\n",
            "             ^^^^^^^^^^^^^^^\n",
            "  File \"/usr/local/lib/python3.12/dist-packages/pip/_internal/commands/freeze.py\", line 107, in run\n",
            "    sys.stdout.write(line + \"\\n\")\n",
            "BrokenPipeError: [Errno 32] Broken pipe\u001b[0m\u001b[31m\n",
            "\u001b[0m"
          ]
        }
      ]
    }
  ]
}