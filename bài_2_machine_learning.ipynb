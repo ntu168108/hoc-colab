{
  "nbformat": 4,
  "nbformat_minor": 0,
  "metadata": {
    "colab": {
      "provenance": [],
      "authorship_tag": "ABX9TyO8YzvOnKBO7/k6wy/0VmgK",
      "include_colab_link": true
    },
    "kernelspec": {
      "name": "python3",
      "display_name": "Python 3"
    },
    "language_info": {
      "name": "python"
    }
  },
  "cells": [
    {
      "cell_type": "markdown",
      "metadata": {
        "id": "view-in-github",
        "colab_type": "text"
      },
      "source": [
        "<a href=\"https://colab.research.google.com/github/ntu168108/hoc-colab/blob/main/b%C3%A0i_2_machine_learning.ipynb\" target=\"_parent\"><img src=\"https://colab.research.google.com/assets/colab-badge.svg\" alt=\"Open In Colab\"/></a>"
      ]
    },
    {
      "cell_type": "markdown",
      "source": [
        "🧩 BÀI 1: Máy học là gì (hiểu nhanh – không chán)\n",
        "🧠 Ví dụ đời thường:\n",
        "\n",
        "Khi bạn thấy một IP gửi quá nhiều yêu cầu, bạn “đoán” rằng nó đang DDoS.\n",
        "Nếu bạn làm vậy cho nhiều dữ liệu → chính là học máy: dạy máy tính cách nhận biết mẫu (pattern) trong dữ liệu.\n",
        "\n",
        "📘 Mô hình Machine Learning gồm 3 phần chính:\n",
        "\n",
        "Dữ liệu đầu vào (input): ví dụ số lượng request, loại tấn công, thời gian, v.v.\n",
        "\n",
        "Thuật toán học (model): ví dụ: hồi quy tuyến tính, cây quyết định,…\n",
        "\n",
        "Kết quả (output): ví dụ: “Tấn công DDoS” hoặc “Truy cập bình thường”.\n",
        "\n",
        "🧪 BÀI 2: Làm ví dụ thực tế – Dự đoán tấn công mạng\n",
        "\n",
        "Dùng file log_tan_cong_mang.csv mà bạn đã có."
      ],
      "metadata": {
        "id": "K8QvtlUBHUE4"
      }
    },
    {
      "cell_type": "code",
      "source": [
        "!git clone https://github.com/ntu168108/hoc-colab\n",
        "%cd /content/hoc-colab\n",
        "!git pull\n",
        "!ls\n"
      ],
      "metadata": {
        "id": "S1hkMrHRHVRo",
        "outputId": "f985f6eb-507b-436d-9632-e1999785033a",
        "colab": {
          "base_uri": "https://localhost:8080/"
        }
      },
      "execution_count": null,
      "outputs": [
        {
          "output_type": "stream",
          "name": "stdout",
          "text": [
            "fatal: destination path 'hoc-colab' already exists and is not an empty directory.\n",
            "'bài 1 học machine learning.ipynb'   demovip.ipynb\n",
            " bài_2_machine_learning.ipynb\t     log_tan_cong_mang.csv\n"
          ]
        }
      ]
    },
    {
      "cell_type": "code",
      "source": [
        "import pandas as pd\n",
        "from sklearn.model_selection import train_test_split\n",
        "from sklearn.tree import DecisionTreeClassifier\n",
        "from sklearn.metrics import accuracy_score\n",
        "\n",
        "# Bước 1: Đọc dữ liệu\n",
        "du_lieu = pd.read_csv(\"log_tan_cong_mang.csv\")\n",
        "\n",
        "# Bước 2: Biến đổi dữ liệu chữ thành số (máy chỉ hiểu số)\n",
        "du_lieu['loai_tan_cong_mahoa'] = du_lieu['loai_tan_cong'].astype('category').cat.codes\n",
        "\n",
        "# Bước 3: Chọn cột để học (features) và cột cần dự đoán (target)\n",
        "x = du_lieu[['requests_per_minute']]\n",
        "y = du_lieu['loai_tan_cong_mahoa']\n",
        "\n",
        "# Bước 4: Chia dữ liệu thành 2 phần: huấn luyện và kiểm tra\n",
        "x_train, x_test, y_train, y_test = train_test_split(x, y, test_size=0.3, random_state=42)\n",
        "\n",
        "# Bước 5: Huấn luyện mô hình cây quyết định (Decision Tree)\n",
        "mo_hinh = DecisionTreeClassifier()\n",
        "mo_hinh.fit(x_train, y_train)\n",
        "\n",
        "# Bước 6: Dự đoán và đánh giá\n",
        "du_doan = mo_hinh.predict(x_test)\n",
        "do_chinh_xac = accuracy_score(y_test, du_doan)\n",
        "\n",
        "print(\"🎯 Độ chính xác của mô hình:\", round(do_chinh_xac * 100, 2), \"%\")\n"
      ],
      "metadata": {
        "id": "iftiHyWyINMm"
      },
      "execution_count": null,
      "outputs": []
    }
  ]
}