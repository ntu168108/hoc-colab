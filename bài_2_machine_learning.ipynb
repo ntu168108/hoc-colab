{
  "nbformat": 4,
  "nbformat_minor": 0,
  "metadata": {
    "colab": {
      "provenance": [],
      "authorship_tag": "ABX9TyNNyIk4BR9lIklF3zhShmRh",
      "include_colab_link": true
    },
    "kernelspec": {
      "name": "python3",
      "display_name": "Python 3"
    },
    "language_info": {
      "name": "python"
    }
  },
  "cells": [
    {
      "cell_type": "markdown",
      "metadata": {
        "id": "view-in-github",
        "colab_type": "text"
      },
      "source": [
        "<a href=\"https://colab.research.google.com/github/ntu168108/hoc-colab/blob/main/b%C3%A0i_2_machine_learning.ipynb\" target=\"_parent\"><img src=\"https://colab.research.google.com/assets/colab-badge.svg\" alt=\"Open In Colab\"/></a>"
      ]
    },
    {
      "cell_type": "markdown",
      "source": [
        "🧩 BÀI 1: Máy học là gì (hiểu nhanh – không chán)\n",
        "🧠 Ví dụ đời thường:\n",
        "\n",
        "Khi bạn thấy một IP gửi quá nhiều yêu cầu, bạn “đoán” rằng nó đang DDoS.\n",
        "Nếu bạn làm vậy cho nhiều dữ liệu → chính là học máy: dạy máy tính cách nhận biết mẫu (pattern) trong dữ liệu.\n",
        "\n",
        "📘 Mô hình Machine Learning gồm 3 phần chính:\n",
        "\n",
        "Dữ liệu đầu vào (input): ví dụ số lượng request, loại tấn công, thời gian, v.v.\n",
        "\n",
        "Thuật toán học (model): ví dụ: hồi quy tuyến tính, cây quyết định,…\n",
        "\n",
        "Kết quả (output): ví dụ: “Tấn công DDoS” hoặc “Truy cập bình thường”."
      ],
      "metadata": {
        "id": "K8QvtlUBHUE4"
      }
    },
    {
      "cell_type": "code",
      "source": [
        "!git clone https://github.com/ntu168108/hoc-colab\n",
        "!ls /content/hoc-colab/"
      ],
      "metadata": {
        "id": "S1hkMrHRHVRo",
        "outputId": "f985f6eb-507b-436d-9632-e1999785033a",
        "colab": {
          "base_uri": "https://localhost:8080/"
        }
      },
      "execution_count": 7,
      "outputs": [
        {
          "output_type": "stream",
          "name": "stdout",
          "text": [
            "fatal: destination path 'hoc-colab' already exists and is not an empty directory.\n",
            "'bài 1 học machine learning.ipynb'   demovip.ipynb\n",
            " bài_2_machine_learning.ipynb\t     log_tan_cong_mang.csv\n"
          ]
        }
      ]
    },
    {
      "cell_type": "code",
      "source": [],
      "metadata": {
        "id": "iftiHyWyINMm"
      },
      "execution_count": null,
      "outputs": []
    }
  ]
}