{
  "nbformat": 4,
  "nbformat_minor": 5,
  "metadata": {
    "colab": {
      "name": "Colab_Demo_All_Features.ipynb",
      "provenance": [],
      "collapsed_sections": []
    },
    "kernelspec": {
      "name": "python3",
      "display_name": "Python 3"
    },
    "language_info": {
      "name": "python"
    }
  },
  "cells": [
    {
      "cell_type": "markdown",
      "metadata": {
        "id": "title-md"
      },
      "source": [
        "# Colab Demo: Tất tần tật tính năng hay ho\n",
        "\n",
        "Notebook này trình diễn **đầy đủ tính năng** cơ bản lẫn nâng cao của Google Colab: Markdown, code, shell, pip, vẽ biểu đồ, thao tác file, form input, GPU, GitHub, Google Drive, upload/download, và lưu kết quả.\n",
        "\n",
        "**Tip:** Nếu muốn GPU: *Runtime → Change runtime type → Hardware accelerator → GPU*."
      ]
    },
    {
      "cell_type": "markdown",
      "metadata": {
        "id": "toc-md"
      },
      "source": [
        "## Mục lục\n",
        "1. Markdown & công thức\n",
        "2. Python cơ bản\n",
        "3. Shell & pip\n",
        "4. Numpy/Pandas & vẽ biểu đồ\n",
        "5. Form input với `#@param`\n",
        "6. Kiểm tra GPU (PyTorch/TensorFlow)\n",
        "7. Làm việc với file local & upload/download\n",
        "8. Kết nối Google Drive\n",
        "9. Lấy dữ liệu từ GitHub (clone repo / raw CSV)\n",
        "10. Lưu output (ảnh/csv) vào Drive\n"
      ]
    },
    {
      "cell_type": "markdown",
      "metadata": {
        "id": "md-math"
      },
      "source": [
        "## 1) Markdown & công thức\n",
        "Bạn có thể viết **đậm**, *nghiêng*, danh sách, bảng, và công thức LaTeX:\n",
        "\n",
        "$$ E=mc^2 \\quad\\text{và}\\quad f(x)=\\int_{-\\infty}^{\\infty} e^{-x^2}\\,dx $$\n"
      ]
    },
    {
      "cell_type": "code",
      "metadata": {
        "id": "python-basic"
      },
      "source": [
        "# 2) Python cơ bản\n",
        "from datetime import datetime\n",
        "print('Hello Colab!')\n",
        "a, b = 7, 3\n",
        "print('a + b =', a + b)\n",
        "print('Thời gian hiện tại:', datetime.now())"
      ]
    },
    {
      "cell_type": "code",
      "metadata": {
        "id": "shell-pip"
      },
      "source": [
        "# 3) Shell & pip (dùng ! để gọi shell)\n",
        "!python --version\n",
        "!pip -q install numpy pandas matplotlib\n",
        "!ls -la | head -n 10"
      ]
    },
    {
      "cell_type": "code",
      "metadata": {
        "id": "numpy-pandas-plot"
      },
      "source": [
        "# 4) Numpy/Pandas & vẽ biểu đồ\n",
        "import numpy as np\n",
        "import pandas as pd\n",
        "import matplotlib.pyplot as plt\n",
        "\n",
        "x = np.arange(1, 11)\n",
        "y = x ** 2\n",
        "df = pd.DataFrame({'x': x, 'y': y})\n",
        "display(df.head())\n",
        "\n",
        "plt.figure()\n",
        "plt.plot(df['x'], df['y'], marker='o')\n",
        "plt.title('y = x^2')\n",
        "plt.xlabel('x')\n",
        "plt.ylabel('y')\n",
        "plt.grid(True)\n",
        "plt.show()"
      ]
    },
    {
      "cell_type": "code",
      "metadata": {
        "id": "colab-form"
      },
      "source": [
        "# 5) Form input với #@param (Colab Forms)\n",
        "#@title Tạo dãy số tuỳ biến\n",
        "n = 10 #@param {type:\"slider\", min:5, max:50, step:5}\n",
        "start = 1 #@param {type:\"number\"}\n",
        "step = 1 #@param {type:\"number\"}\n",
        "arr = list(range(start, start + n*step, step))\n",
        "print('Mảng:', arr)"
      ]
    },
    {
      "cell_type": "code",
      "metadata": {
        "id": "gpu-check"
      },
      "source": [
        "# 6) Kiểm tra GPU (PyTorch/TensorFlow)\n",
        "try:\n",
        "    import torch\n",
        "    has_cuda = torch.cuda.is_available()\n",
        "    print('PyTorch CUDA:', has_cuda)\n",
        "    if has_cuda:\n",
        "        print('CUDA device:', torch.cuda.get_device_name(0))\n",
        "except Exception as e:\n",
        "    print('PyTorch check error:', e)\n",
        "\n",
        "try:\n",
        "    import tensorflow as tf\n",
        "    print('TensorFlow:', tf.__version__)\n",
        "    print('TF GPUs:', tf.config.list_physical_devices('GPU'))\n",
        "except Exception as e:\n",
        "    print('TensorFlow check error:', e)"
      ]
    },
    {
      "cell_type": "code",
      "metadata": {
        "id": "files-local"
      },
      "source": [
        "# 7) File local & upload/download\n",
        "from google.colab import files\n",
        "import pandas as pd\n",
        "\n",
        "# Tạo 1 CSV demo rồi tải xuống\n",
        "demo = pd.DataFrame({'name':['alice','bob'],'score':[9,8]})\n",
        "demo.to_csv('demo.csv', index=False)\n",
        "print('Đã lưu demo.csv')\n",
        "files.download('demo.csv')\n",
        "\n",
        "# Upload file từ máy -> xử lý\n",
        "print('Chọn file CSV để upload...')\n",
        "up = files.upload()\n",
        "for fname in up.keys():\n",
        "    print('Đã nhận:', fname)\n",
        "    df_up = pd.read_csv(fname)\n",
        "    print('5 dòng đầu:')\n",
        "    display(df_up.head())"
      ]
    },
    {
      "cell_type": "code",
      "metadata": {
        "id": "drive-mount"
      },
      "source": [
        "# 8) Kết nối Google Drive\n",
        "from google.colab import drive\n",
        "drive.mount('/content/drive')\n",
        "\n",
        "# Sau khi mount, có thể đọc/ghi file như thường:\n",
        "import os, pandas as pd\n",
        "save_path = '/content/drive/MyDrive/colab_demo_saved.csv'\n",
        "pd.DataFrame({'t':[1,2,3]}).to_csv(save_path, index=False)\n",
        "print('Đã lưu vào Drive:', save_path)\n",
        "print('Liệt kê thư mục MyDrive:')\n",
        "!ls -la /content/drive/MyDrive | head -n 20"
      ]
    },
    {
      "cell_type": "code",
      "metadata": {
        "id": "github-clone"
      },
      "source": [
        "# 9) Lấy dữ liệu từ GitHub (clone repo / đọc raw)\n",
        "import os, pandas as pd\n",
        "\n",
        "# Clone 1 repo public ví dụ (thay link repo tuỳ ý)\n",
        "!git clone https://github.com/cs109/2014_data.git\n",
        "\n",
        "# Đọc thử 1 file CSV trong repo\n",
        "csv_path = '/content/2014_data/countries.csv'\n",
        "if os.path.exists(csv_path):\n",
        "    df_c = pd.read_csv(csv_path)\n",
        "    print('countries.csv:')\n",
        "    display(df_c.head())\n",
        "else:\n",
        "    print('Không tìm thấy CSV sample trong repo đã clone.')\n",
        "\n",
        "# Hoặc đọc trực tiếp raw CSV qua URL (ví dụ):\n",
        "raw_url = 'https://raw.githubusercontent.com/mwaskom/seaborn-data/master/iris.csv'\n",
        "try:\n",
        "    df_iris = pd.read_csv(raw_url)\n",
        "    print('Iris from GitHub raw:')\n",
        "    display(df_iris.head())\n",
        "except Exception as e:\n",
        "    print('Không tải được iris.csv:', e)"
      ]
    },
    {
      "cell_type": "code",
      "metadata": {
        "id": "save-outputs"
      },
      "source": [
        "# 10) Lưu output (ảnh/csv) vào Drive\n",
        "import matplotlib.pyplot as plt\n",
        "import pandas as pd\n",
        "from datetime import datetime\n",
        "\n",
        "ts = datetime.now().strftime('%Y%m%d_%H%M%S')\n",
        "\n",
        "# Vẽ và lưu ảnh\n",
        "plt.figure()\n",
        "plt.plot([1,2,3,4],[1,4,9,16], marker='o')\n",
        "plt.title('Sample Plot')\n",
        "img_path = f'/content/drive/MyDrive/plot_{ts}.png'\n",
        "plt.savefig(img_path, dpi=150, bbox_inches='tight')\n",
        "plt.close()\n",
        "print('Đã lưu ảnh vào Drive:', img_path)\n",
        "\n",
        "# Tạo DataFrame và lưu CSV\n",
        "df_out = pd.DataFrame({'x':[1,2,3,4], 'y':[1,4,9,16]})\n",
        "csv_out = f'/content/drive/MyDrive/data_{ts}.csv'\n",
        "df_out.to_csv(csv_out, index=False)\n",
        "print('Đã lưu CSV vào Drive:', csv_out)"
      ]
    },
    {
      "cell_type": "markdown",
      "metadata": {
        "id": "end-md"
      },
      "source": [
        "---\n",
        "### Done!\n",
        "Nếu muốn mở rộng, hãy thêm: scikit-learn để train model nhỏ, hoặc `gradio` để dựng UI demo nhanh."
      ]
    }
  ]
}